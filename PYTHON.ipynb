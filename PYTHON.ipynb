{
  "nbformat": 4,
  "nbformat_minor": 0,
  "metadata": {
    "colab": {
      "provenance": [],
      "gpuType": "T4",
      "mount_file_id": "1JrpZa9QDnC8CUm82OoqfI-xY_4C-nBxw",
      "authorship_tag": "ABX9TyO5YzsQSLxl9UVtCvPWmOU+",
      "include_colab_link": true
    },
    "kernelspec": {
      "name": "python3",
      "display_name": "Python 3"
    },
    "language_info": {
      "name": "python"
    },
    "accelerator": "GPU"
  },
  "cells": [
    {
      "cell_type": "markdown",
      "metadata": {
        "id": "view-in-github",
        "colab_type": "text"
      },
      "source": [
        "<a href=\"https://colab.research.google.com/github/coderanandmaurya/opencv/blob/main/PYTHON.ipynb\" target=\"_parent\"><img src=\"https://colab.research.google.com/assets/colab-badge.svg\" alt=\"Open In Colab\"/></a>"
      ]
    },
    {
      "cell_type": "markdown",
      "source": [
        "<h1> hello </h1>"
      ],
      "metadata": {
        "id": "UtJF3ED7D9hi"
      }
    },
    {
      "cell_type": "markdown",
      "source": [
        "- hello world\n",
        "  - hello"
      ],
      "metadata": {
        "id": "K2YmmoK6ESQe"
      }
    },
    {
      "cell_type": "code",
      "source": [],
      "metadata": {
        "id": "SQAt-V4GEFcZ"
      },
      "execution_count": null,
      "outputs": []
    }
  ]
}